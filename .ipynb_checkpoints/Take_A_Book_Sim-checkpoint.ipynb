{
 "cells": [
  {
   "cell_type": "code",
   "execution_count": null,
   "metadata": {},
   "outputs": [],
   "source": [
    "import pandas as pd\n",
    "import numpy as np\n",
    "import random \n",
    "import matplotlib.pyplot as plt\n"
   ]
  },
  {
   "cell_type": "markdown",
   "metadata": {},
   "source": [
    "Take a book leave a book neighbourhood lending library simulator\n",
    "500 books  distributed between 1 tablibrary (20 books) and 10 users (48 books)\n",
    "each book has a \"true rating\" and an indivdual user rating that is randomly +- 1.5 from the true rating\n",
    "500x11 dataframe - book \"title\" is index. true and user ratings are columns\n",
    "true ratings normally distributed around 6(?) with sd 1.5(?)\n",
    "\n",
    "user object contains list of current books and list of past books\n",
    "tablibrary contains list of books currently held in tablibrary\n",
    "lending event: \n",
    "-random user selected\n",
    "-random book is selected from user current books list with user rating < mean of current user books and is added to user past books list and tablibrary list. \n",
    "-random book NOT IN user past books list selected from tablibrary and added to user current books list\n",
    "\n",
    "repeat lending events some number of times\n",
    "\n",
    "\n",
    "Advanced:\n",
    "run to user is not able to pull unread books from tablibrary 2 times\n",
    "remove and introduce users randomly or by trigger\n",
    "\n"
   ]
  },
  {
   "cell_type": "code",
   "execution_count": null,
   "metadata": {},
   "outputs": [],
   "source": [
    "Does the user current book mean qrating increase over time?\n",
    "Does the tablibrary true book rating decrease over time?\n"
   ]
  },
  {
   "cell_type": "code",
   "execution_count": null,
   "metadata": {},
   "outputs": [],
   "source": [
    "true_book_ratings= np.random.normal(6,1.5,500)"
   ]
  },
  {
   "cell_type": "code",
   "execution_count": null,
   "metadata": {},
   "outputs": [],
   "source": [
    "true_book_ratings.max()"
   ]
  },
  {
   "cell_type": "code",
   "execution_count": null,
   "metadata": {},
   "outputs": [],
   "source": [
    "plt.hist(true_book_ratings, 30, density=True)\n",
    "plt.show()"
   ]
  },
  {
   "cell_type": "code",
   "execution_count": null,
   "metadata": {},
   "outputs": [],
   "source": [
    "book_rating=pd.DataFrame(true_book_ratings,columns=['true_rating'],)"
   ]
  },
  {
   "cell_type": "code",
   "execution_count": null,
   "metadata": {},
   "outputs": [],
   "source": [
    "book_rating"
   ]
  },
  {
   "cell_type": "markdown",
   "metadata": {},
   "source": [
    "test user rating system where user randomly ratees the book higher or lower than the true rating"
   ]
  },
  {
   "cell_type": "code",
   "execution_count": null,
   "metadata": {},
   "outputs": [],
   "source": [
    "user_rating= []\n",
    "for rat in true_book_ratings:\n",
    "    user_rating.append(rat+np.random.uniform(-1.5,1.5))"
   ]
  },
  {
   "cell_type": "code",
   "execution_count": null,
   "metadata": {},
   "outputs": [],
   "source": [
    "plt.hist(user_rating, 30, density=True)\n",
    "plt.show()"
   ]
  },
  {
   "cell_type": "markdown",
   "metadata": {},
   "source": [
    "create 10 user rating lists and add to book rating dataframe"
   ]
  },
  {
   "cell_type": "code",
   "execution_count": null,
   "metadata": {},
   "outputs": [],
   "source": [
    "for i in list(range(0,10)):\n",
    "    user_rating= []\n",
    "    for rat in true_book_ratings:\n",
    "        user_rating.append(rat+np.random.uniform(-1.5,1.5))\n",
    "    book_rating['user'+str(i)]=user_rating"
   ]
  },
  {
   "cell_type": "code",
   "execution_count": null,
   "metadata": {},
   "outputs": [],
   "source": [
    "book_rating"
   ]
  },
  {
   "cell_type": "code",
   "execution_count": null,
   "metadata": {},
   "outputs": [],
   "source": []
  },
  {
   "cell_type": "markdown",
   "metadata": {},
   "source": [
    "create users and tablibrary"
   ]
  },
  {
   "cell_type": "code",
   "execution_count": null,
   "metadata": {},
   "outputs": [],
   "source": [
    "class user:\n",
    "    \n",
    "    def __init__(self,name=None,current=[]):\n",
    "        self.name=name\n",
    "        self.current=current\n",
    "        self.previous=[]"
   ]
  },
  {
   "cell_type": "code",
   "execution_count": null,
   "metadata": {},
   "outputs": [],
   "source": [
    "class tablibrary:\n",
    "    \n",
    "    def __init__(self,current=[]):\n",
    "        self.current=current"
   ]
  },
  {
   "cell_type": "code",
   "execution_count": null,
   "metadata": {},
   "outputs": [],
   "source": [
    "list_users=[]\n",
    "nums=0\n",
    "for col in book_rating.columns[1:]:\n",
    "    list_users.append(user(name=col,current=list(range(nums,nums+48))))\n",
    "    nums+=48\n",
    "tablib=tablibrary(list(range(nums,500)))"
   ]
  },
  {
   "cell_type": "code",
   "execution_count": null,
   "metadata": {},
   "outputs": [],
   "source": [
    "def lending_event():\n",
    "    user=np.random.choice(list_users) #random user\n",
    "    print(user.name)\n",
    "    givebook=np.random.choice(user.current) #random book from user\n",
    "    print(givebook)\n",
    "       #check user rating is not better than user current average\n",
    "    while book_rating[user.name].iloc[givebook]>np.mean(book_rating[user.name].iloc[user.current]): \n",
    "        givebook=np.random.choice(user.current) #pull a new book\n",
    "    user.previous.append(givebook) #add book to user previous list\n",
    "    user.current.remove(givebook) #remove book from user current list\n",
    "    \n",
    "    takebook=np.random.choice(tablib.current) #select random book from tablibrary\n",
    "    print(takebook)\n",
    "    attempt=0\n",
    "    while takebook in user.previous:\n",
    "        takebook=np.random.choice(tablib.current) #try again\n",
    "        print(attempt)\n",
    "        attempt+=1\n",
    "        if attempt > 5:\n",
    "            print('cannot take a book') #loop breakout if cannot find a book that has not been previously read by user\n",
    "            break\n",
    "                \n",
    "    tablib.current.append(givebook)\n",
    "    tablib.current.remove(takebook)\n",
    "    user.current.append(takebook)"
   ]
  },
  {
   "cell_type": "markdown",
   "metadata": {},
   "source": [
    "starting user book rating means"
   ]
  },
  {
   "cell_type": "code",
   "execution_count": null,
   "metadata": {},
   "outputs": [],
   "source": [
    "start_user_rating_means=[]\n",
    "for user in list_users:\n",
    "    start_user_rating_means.append(np.mean(book_rating[user.name].iloc[user.current]))"
   ]
  },
  {
   "cell_type": "code",
   "execution_count": null,
   "metadata": {},
   "outputs": [],
   "source": [
    "start_user_rating_means"
   ]
  },
  {
   "cell_type": "code",
   "execution_count": null,
   "metadata": {},
   "outputs": [],
   "source": [
    "start_tablib_mean=np.mean(book_rating['true_rating'].iloc[tablib.current])"
   ]
  },
  {
   "cell_type": "code",
   "execution_count": null,
   "metadata": {},
   "outputs": [],
   "source": [
    "start_tablib_mean"
   ]
  },
  {
   "cell_type": "code",
   "execution_count": null,
   "metadata": {},
   "outputs": [],
   "source": [
    "for i in list(range(0,100)):\n",
    "    lending_event()"
   ]
  },
  {
   "cell_type": "code",
   "execution_count": null,
   "metadata": {
    "scrolled": true
   },
   "outputs": [],
   "source": [
    "end_user_rating_means=[]\n",
    "for user in list_users:\n",
    "    end_user_rating_means.append(np.mean(book_rating[user.name].iloc[user.current]))"
   ]
  },
  {
   "cell_type": "code",
   "execution_count": null,
   "metadata": {},
   "outputs": [],
   "source": [
    "end_user_rating_means"
   ]
  },
  {
   "cell_type": "code",
   "execution_count": null,
   "metadata": {},
   "outputs": [],
   "source": [
    "end_tablib_mean=np.mean(book_rating['true_rating'].iloc[tablib.current])"
   ]
  },
  {
   "cell_type": "code",
   "execution_count": null,
   "metadata": {},
   "outputs": [],
   "source": [
    "end_tablib_mean"
   ]
  },
  {
   "cell_type": "code",
   "execution_count": null,
   "metadata": {},
   "outputs": [],
   "source": [
    "np.subtract(end_user_rating_means,start_user_rating_means)"
   ]
  },
  {
   "cell_type": "raw",
   "metadata": {},
   "source": [
    "THEY IMPROVED THEIR BOOK COLLECTIONS!!!!!"
   ]
  },
  {
   "cell_type": "code",
   "execution_count": null,
   "metadata": {},
   "outputs": [],
   "source": [
    "np.subtract(end_tablib_mean,start_tablib_mean)"
   ]
  },
  {
   "cell_type": "markdown",
   "metadata": {},
   "source": [
    "and the library got worse"
   ]
  },
  {
   "cell_type": "code",
   "execution_count": null,
   "metadata": {},
   "outputs": [],
   "source": []
  },
  {
   "cell_type": "code",
   "execution_count": null,
   "metadata": {},
   "outputs": [],
   "source": []
  },
  {
   "cell_type": "code",
   "execution_count": null,
   "metadata": {},
   "outputs": [],
   "source": []
  },
  {
   "cell_type": "code",
   "execution_count": null,
   "metadata": {},
   "outputs": [],
   "source": []
  }
 ],
 "metadata": {
  "kernelspec": {
   "display_name": "Python 3",
   "language": "python",
   "name": "python3"
  },
  "language_info": {
   "codemirror_mode": {
    "name": "ipython",
    "version": 3
   },
   "file_extension": ".py",
   "mimetype": "text/x-python",
   "name": "python",
   "nbconvert_exporter": "python",
   "pygments_lexer": "ipython3",
   "version": "3.8.3"
  }
 },
 "nbformat": 4,
 "nbformat_minor": 4
}
